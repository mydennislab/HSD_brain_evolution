{
 "cells": [
  {
   "cell_type": "code",
   "execution_count": 1,
   "id": "c090d2c6-2fd0-4cf0-a022-8aa6ba6c6642",
   "metadata": {},
   "outputs": [],
   "source": [
    "#!pip3 install pandas\n",
    "#!pip3 install numpy\n",
    "#!pip3 install scipy"
   ]
  },
  {
   "cell_type": "code",
   "execution_count": 2,
   "id": "f5b13c2d-7e4b-4453-8a30-bfe1938bb598",
   "metadata": {},
   "outputs": [],
   "source": [
    "import pandas as pd\n",
    "import numpy as np\n",
    "from scipy import stats\n",
    "import itertools"
   ]
  },
  {
   "cell_type": "markdown",
   "id": "a01ce5f1-4715-4a0c-9a73-efe61df61095",
   "metadata": {},
   "source": [
    "Reading identity-based clusters and WSSD gene-family copy numbers:"
   ]
  },
  {
   "cell_type": "code",
   "execution_count": 3,
   "id": "35dde7ba-1e21-453f-96a7-ee4153b51308",
   "metadata": {},
   "outputs": [],
   "source": [
    "wssd=pd.read_table(\"data/SD98_WSSD.tsv\", sep=\"\\t\", header=0, index_col=0)"
   ]
  },
  {
   "cell_type": "code",
   "execution_count": 4,
   "id": "bb414228-ce5e-43b7-9041-ff4662d30a12",
   "metadata": {},
   "outputs": [],
   "source": [
    "clusters=[]\n",
    "with open(\"data/SD98_exon_clusters.txt\") as f:\n",
    "    for index, line in enumerate(f):\n",
    "        line_strip=line.strip()\n",
    "        line_split=line_strip.split(\",\")\n",
    "        clusters.append(line_split)"
   ]
  },
  {
   "cell_type": "markdown",
   "id": "31fde3bf-d35b-430b-aa39-ca837d5b61b2",
   "metadata": {},
   "source": [
    "To address dispersion of copy number within a cluster we used the median absolute deviation (MAD) metric. We defined a function to get MAD scores per cluster:"
   ]
  },
  {
   "cell_type": "code",
   "execution_count": 5,
   "id": "330e3546-a2d5-4342-b85e-4597fecb9009",
   "metadata": {},
   "outputs": [],
   "source": [
    "def get_mad(elements):\n",
    "    wssd_clust=wssd[wssd.index.isin(elements)]\n",
    "    wssd_clust_median=wssd_clust.median(axis=1)\n",
    "    return stats.median_abs_deviation(wssd_clust_median)"
   ]
  },
  {
   "cell_type": "markdown",
   "id": "f281de1f",
   "metadata": {},
   "source": [
    "We selected pairwise clusters based on shared exons only if genes had similar overall WSSD copy number:"
   ]
  },
  {
   "cell_type": "code",
   "execution_count": 8,
   "id": "f403f104",
   "metadata": {},
   "outputs": [],
   "source": [
    "low_dispersion_clusters=list()\n",
    "high_dispersion_clusters=list()\n",
    "\n",
    "for cluster in clusters:\n",
    "    if get_mad(cluster) < 1:\n",
    "        low_dispersion_clusters.append(cluster)\n",
    "    else:\n",
    "        high_dispersion_clusters.append(cluster)\n",
    "           \n",
    "with open('results/low_dispersion_clusters.txt', 'w') as f:\n",
    "    for cluster in low_dispersion_clusters:\n",
    "        f.write(\",\".join(sorted(str(c) for c in cluster)) + '\\n')\n",
    "\n",
    "with open('results/high_dispersion_clusters.txt', 'w') as f:\n",
    "    for cluster in high_dispersion_clusters:\n",
    "        f.write(\",\".join(sorted(str(c) for c in cluster)) + '\\n')   "
   ]
  },
  {
   "cell_type": "markdown",
   "id": "4e7c0bcc",
   "metadata": {},
   "source": [
    "Then, we generated gene families based on shared protein coding genes or unprocessed pseudogenes:"
   ]
  },
  {
   "cell_type": "code",
   "execution_count": 9,
   "id": "4c1ecea5",
   "metadata": {},
   "outputs": [
    {
     "data": {
      "text/plain": [
       "1673"
      ]
     },
     "execution_count": 9,
     "metadata": {},
     "output_type": "execute_result"
    }
   ],
   "source": [
    "genes=[]\n",
    "\n",
    "for cluster in low_dispersion_clusters:\n",
    "    for element in cluster:\n",
    "        if any(x in element for x in [\"protein_coding\",\"unprocessed_pseudogene\"]):\n",
    "            genes.append(element)\n",
    "\n",
    "genes=list(set(genes))\n",
    "len(genes)"
   ]
  },
  {
   "cell_type": "code",
   "execution_count": 10,
   "id": "b9286104",
   "metadata": {},
   "outputs": [],
   "source": [
    "families=list()\n",
    "\n",
    "for gene in genes:   \n",
    "    gene_cluster = list()\n",
    "    gene_cluster.append(gene)\n",
    "    \n",
    "    i=0\n",
    "    while True:\n",
    "        if any(x in gene_cluster[i] for x in [\"protein_coding\",\"unprocessed_pseudogene\"]): \n",
    "            for cluster in low_dispersion_clusters:\n",
    "                if gene_cluster[i] in cluster:\n",
    "                    gene_cluster = list(set(gene_cluster+cluster))\n",
    "                    \n",
    "        i+=1\n",
    "        if i == len(gene_cluster):\n",
    "            families.append(sorted(str(c) for c in gene_cluster))\n",
    "            break"
   ]
  },
  {
   "cell_type": "code",
   "execution_count": 12,
   "id": "2d975384",
   "metadata": {},
   "outputs": [],
   "source": [
    "families.sort()\n",
    "families_dedup=list(k for k,_ in itertools.groupby(families))\n",
    "\n",
    "with open('results/low_dispersion_families.txt', 'w') as f:\n",
    "    for family in families_dedup:\n",
    "        f.write(\",\".join(sorted(str(f) for f in family)) + '\\n')"
   ]
  },
  {
   "cell_type": "markdown",
   "id": "95d1716e",
   "metadata": {},
   "source": [
    "We generated an output file of these gene families, their median copy numbers, and number of members:"
   ]
  },
  {
   "cell_type": "code",
   "execution_count": 13,
   "id": "c75332a4",
   "metadata": {},
   "outputs": [],
   "source": [
    "i=1\n",
    "results=list()\n",
    "\n",
    "for family in families_dedup:\n",
    "    family_id=\"ID_\"+str(i)\n",
    "    family_mad=get_mad(family)\n",
    "    family_members=str(len(family))\n",
    "    family_proteins=len([element for element in family if \"protein_coding\" in element])\n",
    "    family_pseudo=len([element for element in family if \"unprocessed_pseudogene\" in element])\n",
    "    family_both=family_proteins+family_pseudo\n",
    "    \n",
    "    for f in family:\n",
    "        f_wssd=wssd[wssd.index.isin([f])]\n",
    "        f_wssd_median=f_wssd.median(axis=1)\n",
    "        f_wssd_median_median=f_wssd_median.median()\n",
    "        \n",
    "        new_entry = {'gene_name': f, 'median_CN': f_wssd_median_median, 'family_id': family_id, \n",
    "                     \"family_MAD\": family_mad, \"family_members\": family_members, \n",
    "                     \"family_proteins\": family_proteins, \"family_pseudo\": family_pseudo, \"family_both\": family_both}\n",
    "        results.append(new_entry)\n",
    "    \n",
    "    i+=1   \n",
    "\n",
    "results = pd.DataFrame.from_records(results)\n",
    "results.to_csv(\"results/SD98_families.tsv\", sep=\"\\t\", index=False, na_rep=\"N/A\")"
   ]
  }
 ],
 "metadata": {
  "kernelspec": {
   "display_name": "Python 3 (ipykernel)",
   "language": "python",
   "name": "python3"
  },
  "language_info": {
   "codemirror_mode": {
    "name": "ipython",
    "version": 3
   },
   "file_extension": ".py",
   "mimetype": "text/x-python",
   "name": "python",
   "nbconvert_exporter": "python",
   "pygments_lexer": "ipython3",
   "version": "3.9.6"
  }
 },
 "nbformat": 4,
 "nbformat_minor": 5
}
